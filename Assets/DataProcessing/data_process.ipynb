{
 "cells": [
  {
   "cell_type": "markdown",
   "metadata": {},
   "source": [
    "#### 从Assets/ExpLog中提取json文件进行处理. 结果暂存为.csv以方便使用excel."
   ]
  },
  {
   "cell_type": "code",
   "execution_count": 1,
   "metadata": {},
   "outputs": [],
   "source": [
    "# 导入包，设置路径\n",
    "import os\n",
    "import json\n",
    "import csv\n",
    "\n",
    "LogDir = \"D:/Unity/Project/Keyboard/Assets/ExpLog/\""
   ]
  },
  {
   "cell_type": "code",
   "execution_count": null,
   "metadata": {},
   "outputs": [],
   "source": [
    "# 获取json文件列表，并以名称为索引\n",
    "tmpfList = os.listdir(LogDir)\n",
    "fDist = {}   # \"name\" : [0's filename, 1's filename, 2's filename, 3's filename..]\n",
    "nameList = []\n",
    "typeList = [\"NSPad\", \"NSPad+Crossover\", \"FanPad\", \"FanPad+Crossover\"]\n",
    "\n",
    "for fname in tmpfList:\n",
    "    if fname.endswith(\"meta\"):\n",
    "        continue\n",
    "    n, t, time = fname[:-5].split('_')\n",
    "    t = int(n)\n",
    "    nameList.append()\n",
    "    if n not in fDist.keys():\n",
    "        fDist[n] = [None, None, None, None]\n",
    "    if fDist[n][t] is not None:\n",
    "        _, _, another_time = fname[:-5].split('_')\n",
    "        if another_time < time:\n",
    "            # 使用更晚的.\n",
    "            fDist[n][t] = fname\n",
    "    else:\n",
    "        fDist[n][t] = fname"
   ]
  },
  {
   "cell_type": "code",
   "execution_count": null,
   "metadata": {},
   "outputs": [],
   "source": [
    "# 准备一些需要使用的函数.\n",
    "def TotalError(phrases:list[str], inputSequence: list[str]):\n",
    "    \n",
    "    return 0"
   ]
  }
 ],
 "metadata": {
  "kernelspec": {
   "display_name": "Python 3",
   "language": "python",
   "name": "python3"
  },
  "language_info": {
   "codemirror_mode": {
    "name": "ipython",
    "version": 3
   },
   "file_extension": ".py",
   "mimetype": "text/x-python",
   "name": "python",
   "nbconvert_exporter": "python",
   "pygments_lexer": "ipython3",
   "version": "3.9.13"
  },
  "orig_nbformat": 4
 },
 "nbformat": 4,
 "nbformat_minor": 2
}
