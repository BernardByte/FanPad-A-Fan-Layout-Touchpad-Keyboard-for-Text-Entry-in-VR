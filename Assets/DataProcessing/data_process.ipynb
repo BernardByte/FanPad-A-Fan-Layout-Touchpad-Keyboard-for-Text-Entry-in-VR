{
 "cells": [
  {
   "cell_type": "markdown",
   "metadata": {},
   "source": [
    "#### 从Assets/ExpLog中提取json文件进行处理. 结果暂存为.csv以方便使用excel."
   ]
  },
  {
   "cell_type": "markdown",
   "metadata": {},
   "source": [
    "**注意json中的firsttouch的目标不可靠，坐标应该对应inputsequence中删去-+的区域**"
   ]
  },
  {
   "cell_type": "code",
   "execution_count": 21,
   "metadata": {},
   "outputs": [],
   "source": [
    "# 导入包，设置路径\n",
    "import numpy as np\n",
    "import os\n",
    "import json\n",
    "import csv\n",
    "from EditDistance import EditDistance\n",
    "\n",
    "LogDir = \"D:/Unity/Project/Keyboard/Assets/ExpLog/\""
   ]
  },
  {
   "cell_type": "code",
   "execution_count": 22,
   "metadata": {},
   "outputs": [],
   "source": [
    "# 获取json文件列表，并以名称为索引\n",
    "tmpfList = os.listdir(LogDir)\n",
    "fDist = {}   # \"name\" : [0's filename, 1's filename, 2's filename, 3's filename..]\n",
    "nameList = []\n",
    "typeList = [\"NSPad\", \"NSPad+Crossover\", \"FanPad\", \"FanPad+Crossover\"]\n",
    "typenum = 4\n",
    "\n",
    "for fname in tmpfList:\n",
    "    if fname.endswith(\"meta\"):\n",
    "        continue\n",
    "    n, t, time = fname[:-5].split('_')\n",
    "    t = int(t)\n",
    "    try:\n",
    "        nameList.index(n)\n",
    "    except ValueError:\n",
    "        nameList.append(n)\n",
    "    if n not in fDist.keys():\n",
    "        fDist[n] = [None, None, None, None]\n",
    "    if fDist[n][t] is not None:\n",
    "        _, _, another_time = fname[:-5].split('_')\n",
    "        if another_time < time:\n",
    "            # 使用更晚的.\n",
    "            fDist[n][t] = fname\n",
    "    else:\n",
    "        fDist[n][t] = fname"
   ]
  },
  {
   "cell_type": "code",
   "execution_count": 23,
   "metadata": {},
   "outputs": [
    {
     "name": "stdout",
     "output_type": "stream",
     "text": [
      "['cx', 'cyl', 'dyh', 'fjy', 'lhz', 'ljh', 'lyc', 'qym', 'wzt', 'zby', 'zzc']\n",
      "{'cx': ['cx_0_20230906145018.json', 'cx_1_20230906145940.json', 'cx_2_20230906152153.json', 'cx_3_20230906153834.json'], 'cyl': ['cyl_0_20230905173205.json', 'cyl_1_20230905173826.json', 'cyl_2_20230906175823.json', 'cyl_3_20230906180500.json'], 'dyh': ['dyh_0_20230904205330.json', 'dyh_1_20230904210151.json', 'dyh_2_20230904211745.json', 'dyh_3_20230904212638.json'], 'fjy': ['fjy_0_20230906161701.json', 'fjy_1_20230906162310.json', 'fjy_2_20230903205052.json', 'fjy_3_20230906164216.json'], 'lhz': ['lhz_0_20230906210930.json', 'lhz_1_20230906211641.json', 'lhz_2_20230906213738.json', 'lhz_3_20230903215357.json'], 'ljh': ['ljh_0_20230905192925.json', 'ljh_1_20230905194937.json', 'ljh_2_20230905200845.json', 'ljh_3_20230905203547.json'], 'lyc': ['lyc_0_20230904142102.json', 'lyc_1_20230904142651.json', 'lyc_2_20230904152622.json', 'lyc_3_20230904153338.json'], 'qym': ['qym_0_20230905165251.json', 'qym_1_20230905170224.json', 'qym_2_20230903212150.json', 'qym_3_20230905171145.json'], 'wzt': [None, None, 'wzt_2_20230903122030.json', None], 'zby': ['zby_0_20230904195551.json', 'zby_1_20230904200137.json', 'zby_2_20230904201144.json', 'zby_3_20230903194710.json'], 'zzc': ['zzc_0_20230904214557.json', 'zzc_1_20230904215930.json', 'zzc_2_20230904222905.json', 'zzc_3_20230904223736.json']}\n"
     ]
    }
   ],
   "source": [
    "print(nameList)\n",
    "print(fDist)"
   ]
  },
  {
   "cell_type": "code",
   "execution_count": 24,
   "metadata": {},
   "outputs": [],
   "source": [
    "# 准备一些需要使用的函数.\n",
    "def TotalError(phrases:list[str], inputSequence: list[str]):\n",
    "    # 计算输入过程中的总错误数..先还是用下标按顺序来吧..\n",
    "    allPhrase = \"\\n\".join(phrases).lower()\n",
    "    cur = \"\"\n",
    "    ind = 0\n",
    "    err = 0\n",
    "    for next in inputSequence:\n",
    "        next = next.lower()\n",
    "        if next == \"back\":\n",
    "            cur = cur[:-1]\n",
    "            ind = 0 if ind == 0 else ind - 1\n",
    "            next = \"\"\n",
    "        elif next == \"sym\" or next == \"shift\":\n",
    "            # 直接忽略\n",
    "            next = \"\"\n",
    "        elif next[0] == '-':\n",
    "            delete, add = next.split(\", \")\n",
    "            cur = cur[:-(len(delete)-1)] + add[1:]\n",
    "            ind = ind - len(delete) + 1\n",
    "            next = add[1:]\n",
    "        else:\n",
    "            cur = cur + next\n",
    "        # 接下来是比较.\n",
    "        for j in range(len(next)):\n",
    "            if allPhrase[i] != next[j]:\n",
    "                if allPhrase[i] == \"\\n\" and next[j] == ' ':\n",
    "                    i -= 1\n",
    "                else:\n",
    "                    err += 1\n",
    "            i += 1\n",
    "    return err\n",
    "\n",
    "# 用back总次数算.\n",
    "def BackTimes(inputSequence : list[str]):\n",
    "    err = 0\n",
    "    for i in inputSequence:\n",
    "        if i == \"Back\":\n",
    "            err += 1\n",
    "    return err"
   ]
  },
  {
   "cell_type": "code",
   "execution_count": 27,
   "metadata": {},
   "outputs": [
    {
     "name": "stdout",
     "output_type": "stream",
     "text": [
      "cx 0\n",
      "the imagination of the nation stay away from strangers an airport is a very busy place we must redouble our efforts mom made her a turtleneck\n",
      "the imagination of the nation stay away from strangers an airport is a very busy place we must redouble our efforts mon made her a turtleneck\n",
      "cyl 0\n",
      "presidents drive expensive cars valid until the end of the year dolphins leap high out of the water a glance in the right direction an excellent way to communicate\n",
      "presidents drive expensive cars valid until the end of the year dolphins leap high out of the water a giance in the right direction an excellent way to communicate\n",
      "dyh 0\n",
      "a steep learning curve in riding a unicycle the location of the crime good jobs for those with education get rid of that immediately file all complaints in writing\n",
      "a sgeep learning curve in riding a unicycle the location or the crime good jobs for thosewith education get rid of that immediate ly file all complaints in writing\n",
      "fjy 0\n",
      "a much higher risk of getting cancer what a lovely red jacket have a good weekend get rid of that immediately make my day you sucker\n",
      "a much higher risk of getting cancer what a lovely red jacket have a good weekend get rid of that immediately make my day you sucker\n",
      "lhz 0\n",
      "learn to walk before you run you are a wonderful example work hard to reach the summit a glance in the right direction this system of taxation\n",
      "learn to walk nefore you run you are a wonderful example work hard to reach the summit a glance in the right direction this system of taxation\n",
      "ljh 0\n",
      "file all complaints in writing is there any indication of this the minimum amount of time parking lot is full of trucks make up a few more phrases\n",
      "file all complaints in writing is there any indication of this the minimum amount of time parking lot is full of trucks make up a few more phrases\n",
      "lyc 0\n",
      "a picture is worth many words irregular verbs are the hardest to learn please provide your date of birth user friendly interface great disturbance in the force\n",
      "a picture is worth many words irregular verb are the hardest to learn please provide your date of birth user friendly interface great disturbance in the force\n"
     ]
    },
    {
     "ename": "KeyboardInterrupt",
     "evalue": "",
     "output_type": "error",
     "traceback": [
      "\u001b[1;31m---------------------------------------------------------------------------\u001b[0m",
      "\u001b[1;31mKeyboardInterrupt\u001b[0m                         Traceback (most recent call last)",
      "Cell \u001b[1;32mIn[27], line 27\u001b[0m\n\u001b[0;32m     25\u001b[0m \u001b[39mprint\u001b[39m(phrases)\n\u001b[0;32m     26\u001b[0m \u001b[39mprint\u001b[39m(result)\n\u001b[1;32m---> 27\u001b[0m ncerr \u001b[39m=\u001b[39m EditDistance(phrases, result)\n\u001b[0;32m     28\u001b[0m \u001b[39m# for j in range(len(phrases)):\u001b[39;00m\n\u001b[0;32m     29\u001b[0m \u001b[39m#     result[j] = result[j].strip()\u001b[39;00m\n\u001b[0;32m     30\u001b[0m \u001b[39m#     ncerr += EditDistance(phrases[j], result[j])\u001b[39;00m\n\u001b[0;32m     31\u001b[0m totalerr \u001b[39m=\u001b[39m ncerr \u001b[39m+\u001b[39m BackTimes(jsonFile[\u001b[39m\"\u001b[39m\u001b[39minputSequence\u001b[39m\u001b[39m\"\u001b[39m])\n",
      "Cell \u001b[1;32mIn[27], line 27\u001b[0m\n\u001b[0;32m     25\u001b[0m \u001b[39mprint\u001b[39m(phrases)\n\u001b[0;32m     26\u001b[0m \u001b[39mprint\u001b[39m(result)\n\u001b[1;32m---> 27\u001b[0m ncerr \u001b[39m=\u001b[39m EditDistance(phrases, result)\n\u001b[0;32m     28\u001b[0m \u001b[39m# for j in range(len(phrases)):\u001b[39;00m\n\u001b[0;32m     29\u001b[0m \u001b[39m#     result[j] = result[j].strip()\u001b[39;00m\n\u001b[0;32m     30\u001b[0m \u001b[39m#     ncerr += EditDistance(phrases[j], result[j])\u001b[39;00m\n\u001b[0;32m     31\u001b[0m totalerr \u001b[39m=\u001b[39m ncerr \u001b[39m+\u001b[39m BackTimes(jsonFile[\u001b[39m\"\u001b[39m\u001b[39minputSequence\u001b[39m\u001b[39m\"\u001b[39m])\n",
      "File \u001b[1;32m~\\AppData\\Roaming\\Python\\Python311\\site-packages\\debugpy\\_vendored\\pydevd\\_pydevd_bundle\\pydevd_frame.py:988\u001b[0m, in \u001b[0;36mPyDBFrame.trace_dispatch\u001b[1;34m(self, frame, event, arg)\u001b[0m\n\u001b[0;32m    986\u001b[0m \u001b[39m# if thread has a suspend flag, we suspend with a busy wait\u001b[39;00m\n\u001b[0;32m    987\u001b[0m \u001b[39mif\u001b[39;00m info\u001b[39m.\u001b[39mpydev_state \u001b[39m==\u001b[39m STATE_SUSPEND:\n\u001b[1;32m--> 988\u001b[0m     \u001b[39mself\u001b[39;49m\u001b[39m.\u001b[39;49mdo_wait_suspend(thread, frame, event, arg)\n\u001b[0;32m    989\u001b[0m     \u001b[39mreturn\u001b[39;00m \u001b[39mself\u001b[39m\u001b[39m.\u001b[39mtrace_dispatch\n\u001b[0;32m    990\u001b[0m \u001b[39melse\u001b[39;00m:\n",
      "File \u001b[1;32m~\\AppData\\Roaming\\Python\\Python311\\site-packages\\debugpy\\_vendored\\pydevd\\_pydevd_bundle\\pydevd_frame.py:165\u001b[0m, in \u001b[0;36mPyDBFrame.do_wait_suspend\u001b[1;34m(self, *args, **kwargs)\u001b[0m\n\u001b[0;32m    164\u001b[0m \u001b[39mdef\u001b[39;00m \u001b[39mdo_wait_suspend\u001b[39m(\u001b[39mself\u001b[39m, \u001b[39m*\u001b[39margs, \u001b[39m*\u001b[39m\u001b[39m*\u001b[39mkwargs):\n\u001b[1;32m--> 165\u001b[0m     \u001b[39mself\u001b[39;49m\u001b[39m.\u001b[39;49m_args[\u001b[39m0\u001b[39;49m]\u001b[39m.\u001b[39;49mdo_wait_suspend(\u001b[39m*\u001b[39;49margs, \u001b[39m*\u001b[39;49m\u001b[39m*\u001b[39;49mkwargs)\n",
      "File \u001b[1;32m~\\AppData\\Roaming\\Python\\Python311\\site-packages\\debugpy\\_vendored\\pydevd\\pydevd.py:2070\u001b[0m, in \u001b[0;36mPyDB.do_wait_suspend\u001b[1;34m(self, thread, frame, event, arg, exception_type)\u001b[0m\n\u001b[0;32m   2067\u001b[0m             from_this_thread\u001b[39m.\u001b[39mappend(frame_custom_thread_id)\n\u001b[0;32m   2069\u001b[0m     \u001b[39mwith\u001b[39;00m \u001b[39mself\u001b[39m\u001b[39m.\u001b[39m_threads_suspended_single_notification\u001b[39m.\u001b[39mnotify_thread_suspended(thread_id, thread, stop_reason):\n\u001b[1;32m-> 2070\u001b[0m         keep_suspended \u001b[39m=\u001b[39m \u001b[39mself\u001b[39;49m\u001b[39m.\u001b[39;49m_do_wait_suspend(thread, frame, event, arg, suspend_type, from_this_thread, frames_tracker)\n\u001b[0;32m   2072\u001b[0m frames_list \u001b[39m=\u001b[39m \u001b[39mNone\u001b[39;00m\n\u001b[0;32m   2074\u001b[0m \u001b[39mif\u001b[39;00m keep_suspended:\n\u001b[0;32m   2075\u001b[0m     \u001b[39m# This means that we should pause again after a set next statement.\u001b[39;00m\n",
      "File \u001b[1;32m~\\AppData\\Roaming\\Python\\Python311\\site-packages\\debugpy\\_vendored\\pydevd\\pydevd.py:2106\u001b[0m, in \u001b[0;36mPyDB._do_wait_suspend\u001b[1;34m(self, thread, frame, event, arg, suspend_type, from_this_thread, frames_tracker)\u001b[0m\n\u001b[0;32m   2103\u001b[0m         \u001b[39mself\u001b[39m\u001b[39m.\u001b[39m_call_input_hook()\n\u001b[0;32m   2105\u001b[0m     \u001b[39mself\u001b[39m\u001b[39m.\u001b[39mprocess_internal_commands()\n\u001b[1;32m-> 2106\u001b[0m     time\u001b[39m.\u001b[39msleep(\u001b[39m0.01\u001b[39m)\n\u001b[0;32m   2108\u001b[0m \u001b[39mself\u001b[39m\u001b[39m.\u001b[39mcancel_async_evaluation(get_current_thread_id(thread), \u001b[39mstr\u001b[39m(\u001b[39mid\u001b[39m(frame)))\n\u001b[0;32m   2110\u001b[0m \u001b[39m# process any stepping instructions\u001b[39;00m\n",
      "\u001b[1;31mKeyboardInterrupt\u001b[0m: "
     ]
    }
   ],
   "source": [
    "# 图表.\n",
    "head = ['name', 'time', 'length', 'WPM', 'TER', 'NCER']\n",
    "\n",
    "for i in range(typenum):\n",
    "    rows = []\n",
    "    for user in nameList:\n",
    "        # print(user, i)\n",
    "        file = fDist[user][i]\n",
    "        if file is None:\n",
    "            continue\n",
    "        else:\n",
    "            file = os.path.join(LogDir, file)\n",
    "            with open(file, \"r\") as f:\n",
    "                jsonFile = json.load(f)\n",
    "            time = jsonFile[\"seconds\"]\n",
    "            length = jsonFile[\"phraseLength\"]\n",
    "            WPM = jsonFile[\"WPM\"]\n",
    "            # 算错误率\n",
    "            phrases = jsonFile[\"phrases\"]\n",
    "            phrases = ' '.join(phrases)\n",
    "            result = jsonFile[\"result\"].split(\"\\n\")\n",
    "            for j in range(len(result)):\n",
    "                result[j] = result[j].strip()\n",
    "            result = ' '.join(result)\n",
    "            # print(phrases)\n",
    "            # print(result)\n",
    "            ncerr = EditDistance(phrases, result)\n",
    "            # for j in range(len(phrases)):\n",
    "            #     result[j] = result[j].strip()\n",
    "            #     ncerr += EditDistance(phrases[j], result[j])\n",
    "            totalerr = ncerr + BackTimes(jsonFile[\"inputSequence\"])\n",
    "            rows.append([user, time, length, WPM, totalerr/length, ncerr/length])\n",
    "    with open(os.path.join(\"./\", typeList[i] + \"_speed_err.csv\"), \"w\", encoding=\"utf-8-sig\", newline=\"\") as f:\n",
    "        csv_writer = csv.writer(f)\n",
    "        csv_writer.writerow(head)\n",
    "        csv_writer.writerows(rows)"
   ]
  }
 ],
 "metadata": {
  "kernelspec": {
   "display_name": "Python 3",
   "language": "python",
   "name": "python3"
  },
  "language_info": {
   "codemirror_mode": {
    "name": "ipython",
    "version": 3
   },
   "file_extension": ".py",
   "mimetype": "text/x-python",
   "name": "python",
   "nbconvert_exporter": "python",
   "pygments_lexer": "ipython3",
   "version": "3.11.4"
  },
  "orig_nbformat": 4
 },
 "nbformat": 4,
 "nbformat_minor": 2
}
