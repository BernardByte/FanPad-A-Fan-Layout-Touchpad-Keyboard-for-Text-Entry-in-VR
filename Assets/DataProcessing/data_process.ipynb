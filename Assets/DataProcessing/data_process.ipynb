{
 "cells": [
  {
   "cell_type": "markdown",
   "metadata": {},
   "source": [
    "#### 从Assets/ExpLog中提取json文件进行处理. 结果暂存为.csv以方便使用excel."
   ]
  },
  {
   "cell_type": "markdown",
   "metadata": {},
   "source": [
    "**注意json中的firsttouch的目标不可靠，坐标应该对应inputsequence中删去-+的区域**"
   ]
  },
  {
   "cell_type": "code",
   "execution_count": 29,
   "metadata": {},
   "outputs": [],
   "source": [
    "# 导入包，设置路径\n",
    "import numpy as np\n",
    "from openpyxl import Workbook\n",
    "import os\n",
    "import json\n",
    "import csv\n",
    "from EditDistance import EditDistance\n",
    "\n",
    "LogDir = \"D:/Unity/Project/Keyboard/Assets/ExpLog/\""
   ]
  },
  {
   "cell_type": "code",
   "execution_count": 30,
   "metadata": {},
   "outputs": [],
   "source": [
    "# 获取json文件列表，并以名称为索引\n",
    "tmpfList = os.listdir(LogDir)\n",
    "fDist = {}   # \"name\" : [0's filename, 1's filename, 2's filename, 3's filename..]\n",
    "nameList = []\n",
    "typeList = [\"NSPad\", \"NSPad+Crossover\", \"FanPad\", \"FanPad+Crossover\"]\n",
    "typenum = 4\n",
    "\n",
    "for fname in tmpfList:\n",
    "    if fname.endswith(\"meta\"):\n",
    "        continue\n",
    "    n, t, time = fname[:-5].split('_')\n",
    "    t = int(t)\n",
    "    try:\n",
    "        nameList.index(n)\n",
    "    except ValueError:\n",
    "        nameList.append(n)\n",
    "    if n not in fDist.keys():\n",
    "        fDist[n] = [None, None, None, None]\n",
    "    if fDist[n][t] is not None:\n",
    "        _, _, another_time = fname[:-5].split('_')\n",
    "        if another_time < time:\n",
    "            # 使用更晚的.\n",
    "            fDist[n][t] = fname\n",
    "    else:\n",
    "        fDist[n][t] = fname"
   ]
  },
  {
   "cell_type": "code",
   "execution_count": 31,
   "metadata": {},
   "outputs": [
    {
     "name": "stdout",
     "output_type": "stream",
     "text": [
      "['cx', 'cyl', 'dyh', 'fjy', 'lhz', 'ljh', 'lyc', 'qym', 'wzt', 'zby', 'zzc']\n",
      "{'cx': ['cx_0_20230906145018.json', 'cx_1_20230906145940.json', 'cx_2_20230906152153.json', 'cx_3_20230906153834.json'], 'cyl': ['cyl_0_20230905173205.json', 'cyl_1_20230905173826.json', 'cyl_2_20230906175823.json', 'cyl_3_20230906180500.json'], 'dyh': ['dyh_0_20230904205330.json', 'dyh_1_20230904210151.json', 'dyh_2_20230904211745.json', 'dyh_3_20230904212638.json'], 'fjy': ['fjy_0_20230906161701.json', 'fjy_1_20230906162310.json', 'fjy_2_20230903205052.json', 'fjy_3_20230906164216.json'], 'lhz': ['lhz_0_20230906210930.json', 'lhz_1_20230906211641.json', 'lhz_2_20230906213738.json', 'lhz_3_20230903215357.json'], 'ljh': ['ljh_0_20230905192925.json', 'ljh_1_20230905194937.json', 'ljh_2_20230905200845.json', 'ljh_3_20230905203547.json'], 'lyc': ['lyc_0_20230904142102.json', 'lyc_1_20230904142651.json', 'lyc_2_20230904152622.json', 'lyc_3_20230904153338.json'], 'qym': ['qym_0_20230905165251.json', 'qym_1_20230905170224.json', 'qym_2_20230903212150.json', 'qym_3_20230905171145.json'], 'wzt': [None, None, 'wzt_2_20230903122030.json', None], 'zby': ['zby_0_20230904195551.json', 'zby_1_20230904200137.json', 'zby_2_20230904201144.json', 'zby_3_20230903194710.json'], 'zzc': ['zzc_0_20230904214557.json', 'zzc_1_20230904215930.json', 'zzc_2_20230904222905.json', 'zzc_3_20230904223736.json']}\n"
     ]
    }
   ],
   "source": [
    "print(nameList)\n",
    "print(fDist)"
   ]
  },
  {
   "cell_type": "code",
   "execution_count": 32,
   "metadata": {},
   "outputs": [],
   "source": [
    "# 准备一些需要使用的函数.\n",
    "def TotalError(phrases:list[str], inputSequence: list[str]):\n",
    "    # 计算输入过程中的总错误数..先还是用下标按顺序来吧..\n",
    "    allPhrase = \"\\n\".join(phrases).lower()\n",
    "    cur = \"\"\n",
    "    ind = 0\n",
    "    err = 0\n",
    "    for next in inputSequence:\n",
    "        next = next.lower()\n",
    "        if next == \"back\":\n",
    "            cur = cur[:-1]\n",
    "            ind = 0 if ind == 0 else ind - 1\n",
    "            next = \"\"\n",
    "        elif next == \"sym\" or next == \"shift\":\n",
    "            # 直接忽略\n",
    "            next = \"\"\n",
    "        elif next[0] == '-':\n",
    "            delete, add = next.split(\", \")\n",
    "            cur = cur[:-(len(delete)-1)] + add[1:]\n",
    "            ind = ind - len(delete) + 1\n",
    "            next = add[1:]\n",
    "        else:\n",
    "            cur = cur + next\n",
    "        # 接下来是比较.\n",
    "        for j in range(len(next)):\n",
    "            if allPhrase[i] != next[j]:\n",
    "                if allPhrase[i] == \"\\n\" and next[j] == ' ':\n",
    "                    i -= 1\n",
    "                else:\n",
    "                    err += 1\n",
    "            i += 1\n",
    "    return err\n",
    "\n",
    "# 用back总次数算.\n",
    "def BackTimes(inputSequence : list[str]):\n",
    "    err = 0\n",
    "    for i in inputSequence:\n",
    "        if i == \"Back\":\n",
    "            err += 1\n",
    "    return err"
   ]
  },
  {
   "cell_type": "code",
   "execution_count": 33,
   "metadata": {},
   "outputs": [],
   "source": [
    "# 保存数据到xlsx中.\n",
    "head = ['name', 'time', 'length', 'WPM', 'TER', 'NCER']\n",
    "\n",
    "wb = Workbook()\n",
    "\n",
    "for i in range(typenum):\n",
    "    rows = []\n",
    "    ws = wb.create_sheet(typeList[i], i)\n",
    "    ws.append(head)\n",
    "    for user in nameList:\n",
    "        # print(user, i)\n",
    "        file = fDist[user][i]\n",
    "        if file is None:\n",
    "            continue\n",
    "        else:\n",
    "            file = os.path.join(LogDir, file)\n",
    "            with open(file, \"r\") as f:\n",
    "                jsonFile = json.load(f)\n",
    "            time = jsonFile[\"seconds\"]\n",
    "            length = jsonFile[\"phraseLength\"]\n",
    "            WPM = jsonFile[\"WPM\"]\n",
    "            # 算错误率\n",
    "            phrases = jsonFile[\"phrases\"]\n",
    "            phrases = ' '.join(phrases)\n",
    "            result = jsonFile[\"result\"].split(\"\\n\")\n",
    "            for j in range(len(result)):\n",
    "                result[j] = result[j].strip()\n",
    "            result = ' '.join(result)\n",
    "            # print(phrases)\n",
    "            # print(result)\n",
    "            ncerr = EditDistance(phrases, result)\n",
    "            # for j in range(len(phrases)):\n",
    "            #     result[j] = result[j].strip()\n",
    "            #     ncerr += EditDistance(phrases[j], result[j])\n",
    "            totalerr = ncerr + BackTimes(jsonFile[\"inputSequence\"])\n",
    "            rows.append([user, time, length, WPM, totalerr/length, ncerr/length])\n",
    "            ws.append([user, time, length, WPM, totalerr/length, ncerr/length])\n",
    "    # 保存到csv中\n",
    "    # with open(os.path.join(\"./\", typeList[i] + \"_speed_err.csv\"), \"w\", encoding=\"utf-8-sig\", newline=\"\") as f:\n",
    "    #     csv_writer = csv.writer(f)\n",
    "    #     csv_writer.writerow(head)\n",
    "    #     csv_writer.writerows(rows)\n",
    "wb.save(os.path.join(\"./\", \"Speed_Err.xlsx\"))"
   ]
  }
 ],
 "metadata": {
  "kernelspec": {
   "display_name": "Python 3",
   "language": "python",
   "name": "python3"
  },
  "language_info": {
   "codemirror_mode": {
    "name": "ipython",
    "version": 3
   },
   "file_extension": ".py",
   "mimetype": "text/x-python",
   "name": "python",
   "nbconvert_exporter": "python",
   "pygments_lexer": "ipython3",
   "version": "3.11.4"
  },
  "orig_nbformat": 4
 },
 "nbformat": 4,
 "nbformat_minor": 2
}
